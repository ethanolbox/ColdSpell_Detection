{
 "cells": [
  {
   "cell_type": "code",
   "execution_count": 2,
   "metadata": {},
   "outputs": [],
   "source": [
    "# Basic imports\n",
    "import scipy, pandas as pd, numpy as np\n",
    "from matplotlib import pyplot as plt\n",
    "\n",
    "# set the constants\n",
    "CUTOFF = -6.67\n",
    "DAYS = 3"
   ]
  },
  {
   "cell_type": "code",
   "execution_count": 3,
   "metadata": {},
   "outputs": [],
   "source": [
    "# reshape, remove unnecessary columns and add statistical filter + threshold\n",
    "def proc(frame, lower_threshold, year):\n",
    "    processed = frame.copy()\n",
    "    for name in list(frame):\n",
    "        if name[:4] != \"tmin\" and name != \"GEOID20\":\n",
    "            processed = processed.drop(name, axis=1)\n",
    "    \n",
    "        \n",
    "    stats = processed.set_index('GEOID20')\n",
    "    stats = stats.apply(pd.DataFrame.describe, axis=1)\n",
    "    stats[\"lower\"] = stats[\"mean\"]-1.645*stats[\"std\"]\n",
    "\n",
    "    processed = processed.melt(id_vars='GEOID20', var_name='Date', value_name='Temp')\n",
    "    \n",
    "    # conversion to Python datetime objects\n",
    "    processed['Date'] = processed['Date'].map(lambda x: x.lstrip('tmin')) + str(year)\n",
    "    processed['Date'] = pd.to_datetime(processed['Date'], format='%b%d%Y')\n",
    "\n",
    "    # Set + sort by multi-level index using 'GEOID20' and 'Date'\n",
    "    processed.set_index(['GEOID20', 'Date'], inplace=True)\n",
    "    processed.sort_index(inplace=True)\n",
    "\n",
    "    thresholds = stats.copy()\n",
    "    thresholds.drop(columns=['count', 'mean', 'std', 'min', '25%', '50%', '75%', 'max'], inplace=True)\n",
    "    \n",
    "    # for lower here we currently have this as 4.44\n",
    "    thresholds['static']= lower_threshold\n",
    "    \n",
    "    merged = processed.reset_index().merge(thresholds.reset_index(), on='GEOID20', how='left').set_index(['GEOID20', 'Date'])\n",
    "\n",
    "    return merged"
   ]
  },
  {
   "cell_type": "code",
   "execution_count": 4,
   "metadata": {},
   "outputs": [],
   "source": [
    "# function to create a (not indexed) boolean series which tells you whether an entry is part of a consecutive series of length n\n",
    "def consec_count_n(series, n):\n",
    "    temp = []\n",
    "    c = 0\n",
    "    for i in range(len(series.values)):\n",
    "        if series.values[i] == False:\n",
    "            c = 0\n",
    "        else:\n",
    "            c += 1\n",
    "        temp.append(c)\n",
    "    \n",
    "    result = []\n",
    "    pass_thres = False\n",
    "    for i in range(len(temp)):\n",
    "        if temp[-(i+1)] >= n:\n",
    "            pass_thres = True\n",
    "            result.append(True)\n",
    "        elif temp[-(i+1)] != 0 and pass_thres:\n",
    "            result.append(True)\n",
    "        else:\n",
    "            pass_thres = False\n",
    "            result.append(False)\n",
    "    result = result[::-1]\n",
    "\n",
    "    return pd.Series(result)"
   ]
  },
  {
   "cell_type": "code",
   "execution_count": 5,
   "metadata": {},
   "outputs": [],
   "source": [
    "# function which returns a filtered version of a given dataframe which only includes the entries which are part of a consecutive series of length n Trues for a boolean mask\n",
    "def consec_filter(frame, n):\n",
    "    threshold_mask = (frame['Temp'] < frame['lower']) | (frame['Temp'] < frame['static'])\n",
    "    \n",
    "    contig_mask = pd.DataFrame(data=consec_count_n(threshold_mask, n))\n",
    "\n",
    "    contig_mask.reset_index()\n",
    "    contig_mask.columns = [\"contiguous\"]\n",
    "    contig_mask.index = frame.index\n",
    "\n",
    "    filtered_data = frame[frame.index.isin(contig_mask.index[contig_mask['contiguous']])]\n",
    "\n",
    "    return filtered_data"
   ]
  },
  {
   "cell_type": "code",
   "execution_count": 6,
   "metadata": {},
   "outputs": [],
   "source": [
    "# function to turn the dataframe of days into flat data\n",
    "def flatten(frame):\n",
    "    sequences = []\n",
    "\n",
    "    # loop to find and append the sequences and their lengths to a new array\n",
    "    for zip_code, group in frame.groupby(level='GEOID20'):\n",
    "        start_date = None\n",
    "        sequence_length = 0\n",
    "        prev_date = None\n",
    "        for date in group.index.get_level_values('Date'):\n",
    "            if start_date is None:\n",
    "                start_date = date\n",
    "                sequence_length = 1\n",
    "            elif prev_date is not None and (date - prev_date).days == 1:\n",
    "                sequence_length += 1\n",
    "            else:\n",
    "                sequences.append({\n",
    "                    'GEOID20': zip_code,\n",
    "                    'Start_Date': start_date.date(),\n",
    "                    'Sequence_Length': sequence_length\n",
    "                })\n",
    "                start_date = date\n",
    "                sequence_length = 1\n",
    "            prev_date = date\n",
    "        if sequence_length > 0:\n",
    "            sequences.append({\n",
    "                'GEOID20': zip_code,\n",
    "                'Start_Date': start_date.date(),\n",
    "                'Sequence_Length': sequence_length\n",
    "            })\n",
    "    # flatten to 2d array\n",
    "    result = [[seq['GEOID20'], seq['Start_Date'], seq['Sequence_Length']] for seq in sequences]\n",
    "\n",
    "    return result"
   ]
  },
  {
   "cell_type": "code",
   "execution_count": 7,
   "metadata": {},
   "outputs": [],
   "source": [
    "# function to do the whole process for a single year\n",
    "def find_coldspells(frame, cutoff, days, year):\n",
    "    processed = proc(frame, cutoff, year)\n",
    "    days = consec_filter(processed, days)\n",
    "    result = flatten(days)\n",
    "    return result"
   ]
  },
  {
   "cell_type": "code",
   "execution_count": 8,
   "metadata": {},
   "outputs": [],
   "source": [
    "def mCounts(dfs, thresholds):\n",
    "    # Assuming you have a list of dataframes named dfs, where each dataframe corresponds to a year\n",
    "    # Concatenate the dataframes into one dataframe\n",
    "    combined_df = pd.concat(dfs)\n",
    "\n",
    "    # Extract year and month from datetime column\n",
    "    combined_df['Year'] = combined_df['datetime'].dt.year\n",
    "    combined_df['Month'] = combined_df['datetime'].dt.month\n",
    "\n",
    "    # Initialize a dictionary to store counts for each threshold\n",
    "    threshold_counts = {}\n",
    "\n",
    "    # Iterate over each threshold\n",
    "    for threshold in thresholds:\n",
    "        # Filter the dataframe to get only entries exceeding the threshold\n",
    "        exceed_threshold_df = combined_df[combined_df['threshold_column'] > threshold]\n",
    "        \n",
    "        # Group by zip code, year, and month and count the number of exceedances\n",
    "        grouped_df = exceed_threshold_df.groupby(['GEOID20', 'Year', 'Month']).size().reset_index(name=f'Exceedances_{threshold}')\n",
    "        \n",
    "        # Store the counts for this threshold in the dictionary\n",
    "        threshold_counts[threshold] = grouped_df\n",
    "\n",
    "        # Merge the dataframes for each threshold on zip code, year, and month\n",
    "        result_df = threshold_counts[thresholds[0]]\n",
    "        for threshold in thresholds[1:]:\n",
    "            result_df = pd.merge(result_df, threshold_counts[threshold], on=['GEOID20', 'Year', 'Month'], how='outer').fillna(0)\n",
    "\n",
    "    # Now result_df contains the desired format with zip code, year, month, and the count of exceedances\n",
    "    return result_df"
   ]
  },
  {
   "cell_type": "code",
   "execution_count": 22,
   "metadata": {},
   "outputs": [
    {
     "ename": "",
     "evalue": "",
     "output_type": "error",
     "traceback": [
      "\u001b[1;31mThe Kernel crashed while executing code in the the current cell or a previous cell. Please review the code in the cell(s) to identify a possible cause of the failure. Click <a href='https://aka.ms/vscodeJupyterKernelCrash'>here</a> for more info. View Jupyter <a href='command:jupyter.viewOutput'>log</a> for further details."
     ]
    }
   ],
   "source": [
    "columnNames = ['Zip_Code', 'Starting_Date', 'Days']\n",
    "\n",
    "years = range(2006, 2023)\n",
    "\n",
    "for year in years:\n",
    "    frame = pd.read_csv(\"extracted_by_year/\" + str(year) + \"_extracted/tmin\" + str(year) + \".csv\")\n",
    "    result = find_coldspells(frame, CUTOFF, DAYS, year)\n",
    "    np.savetxt(\"coldspell_\" + str(year)  + \"_cutoff\" + str(CUTOFF) +  \".csv\", result, fmt='%s', delimiter=', ', header=', '.join(columnNames))"
   ]
  },
  {
   "cell_type": "code",
   "execution_count": 12,
   "metadata": {},
   "outputs": [
    {
     "ename": "KeyError",
     "evalue": "'datetime'",
     "output_type": "error",
     "traceback": [
      "\u001b[1;31m---------------------------------------------------------------------------\u001b[0m",
      "\u001b[1;31mKeyError\u001b[0m                                  Traceback (most recent call last)",
      "File \u001b[1;32mc:\\Users\\ew0045\\AppData\\Local\\Programs\\Python\\Python39\\lib\\site-packages\\pandas\\core\\indexes\\base.py:3790\u001b[0m, in \u001b[0;36mIndex.get_loc\u001b[1;34m(self, key)\u001b[0m\n\u001b[0;32m   3789\u001b[0m \u001b[38;5;28;01mtry\u001b[39;00m:\n\u001b[1;32m-> 3790\u001b[0m     \u001b[38;5;28;01mreturn\u001b[39;00m \u001b[38;5;28;43mself\u001b[39;49m\u001b[38;5;241;43m.\u001b[39;49m\u001b[43m_engine\u001b[49m\u001b[38;5;241;43m.\u001b[39;49m\u001b[43mget_loc\u001b[49m\u001b[43m(\u001b[49m\u001b[43mcasted_key\u001b[49m\u001b[43m)\u001b[49m\n\u001b[0;32m   3791\u001b[0m \u001b[38;5;28;01mexcept\u001b[39;00m \u001b[38;5;167;01mKeyError\u001b[39;00m \u001b[38;5;28;01mas\u001b[39;00m err:\n",
      "File \u001b[1;32mindex.pyx:152\u001b[0m, in \u001b[0;36mpandas._libs.index.IndexEngine.get_loc\u001b[1;34m()\u001b[0m\n",
      "File \u001b[1;32mindex.pyx:181\u001b[0m, in \u001b[0;36mpandas._libs.index.IndexEngine.get_loc\u001b[1;34m()\u001b[0m\n",
      "File \u001b[1;32mpandas\\_libs\\hashtable_class_helper.pxi:7080\u001b[0m, in \u001b[0;36mpandas._libs.hashtable.PyObjectHashTable.get_item\u001b[1;34m()\u001b[0m\n",
      "File \u001b[1;32mpandas\\_libs\\hashtable_class_helper.pxi:7088\u001b[0m, in \u001b[0;36mpandas._libs.hashtable.PyObjectHashTable.get_item\u001b[1;34m()\u001b[0m\n",
      "\u001b[1;31mKeyError\u001b[0m: 'datetime'",
      "\nThe above exception was the direct cause of the following exception:\n",
      "\u001b[1;31mKeyError\u001b[0m                                  Traceback (most recent call last)",
      "Cell \u001b[1;32mIn[12], line 12\u001b[0m\n\u001b[0;32m      9\u001b[0m     \u001b[38;5;28mfilter\u001b[39m \u001b[38;5;241m=\u001b[39m find_coldspells(frame, \u001b[38;5;241m4.44\u001b[39m, \u001b[38;5;241m1\u001b[39m, year)\n\u001b[0;32m     10\u001b[0m     yFrames\u001b[38;5;241m.\u001b[39mappend(frame)\n\u001b[1;32m---> 12\u001b[0m mList \u001b[38;5;241m=\u001b[39m \u001b[43mmCounts\u001b[49m\u001b[43m(\u001b[49m\u001b[43myFrames\u001b[49m\u001b[43m,\u001b[49m\u001b[43m \u001b[49m\u001b[43mthresholds\u001b[49m\u001b[43m)\u001b[49m\n\u001b[0;32m     13\u001b[0m mList\u001b[38;5;241m.\u001b[39mhead()\n",
      "Cell \u001b[1;32mIn[8], line 7\u001b[0m, in \u001b[0;36mmCounts\u001b[1;34m(dfs, thresholds)\u001b[0m\n\u001b[0;32m      4\u001b[0m combined_df \u001b[38;5;241m=\u001b[39m pd\u001b[38;5;241m.\u001b[39mconcat(dfs)\n\u001b[0;32m      6\u001b[0m \u001b[38;5;66;03m# Extract year and month from datetime column\u001b[39;00m\n\u001b[1;32m----> 7\u001b[0m combined_df[\u001b[38;5;124m'\u001b[39m\u001b[38;5;124mYear\u001b[39m\u001b[38;5;124m'\u001b[39m] \u001b[38;5;241m=\u001b[39m \u001b[43mcombined_df\u001b[49m\u001b[43m[\u001b[49m\u001b[38;5;124;43m'\u001b[39;49m\u001b[38;5;124;43mdatetime\u001b[39;49m\u001b[38;5;124;43m'\u001b[39;49m\u001b[43m]\u001b[49m\u001b[38;5;241m.\u001b[39mdt\u001b[38;5;241m.\u001b[39myear\n\u001b[0;32m      8\u001b[0m combined_df[\u001b[38;5;124m'\u001b[39m\u001b[38;5;124mMonth\u001b[39m\u001b[38;5;124m'\u001b[39m] \u001b[38;5;241m=\u001b[39m combined_df[\u001b[38;5;124m'\u001b[39m\u001b[38;5;124mdatetime\u001b[39m\u001b[38;5;124m'\u001b[39m]\u001b[38;5;241m.\u001b[39mdt\u001b[38;5;241m.\u001b[39mmonth\n\u001b[0;32m     10\u001b[0m \u001b[38;5;66;03m# Initialize a dictionary to store counts for each threshold\u001b[39;00m\n",
      "File \u001b[1;32mc:\\Users\\ew0045\\AppData\\Local\\Programs\\Python\\Python39\\lib\\site-packages\\pandas\\core\\frame.py:3896\u001b[0m, in \u001b[0;36mDataFrame.__getitem__\u001b[1;34m(self, key)\u001b[0m\n\u001b[0;32m   3894\u001b[0m \u001b[38;5;28;01mif\u001b[39;00m \u001b[38;5;28mself\u001b[39m\u001b[38;5;241m.\u001b[39mcolumns\u001b[38;5;241m.\u001b[39mnlevels \u001b[38;5;241m>\u001b[39m \u001b[38;5;241m1\u001b[39m:\n\u001b[0;32m   3895\u001b[0m     \u001b[38;5;28;01mreturn\u001b[39;00m \u001b[38;5;28mself\u001b[39m\u001b[38;5;241m.\u001b[39m_getitem_multilevel(key)\n\u001b[1;32m-> 3896\u001b[0m indexer \u001b[38;5;241m=\u001b[39m \u001b[38;5;28;43mself\u001b[39;49m\u001b[38;5;241;43m.\u001b[39;49m\u001b[43mcolumns\u001b[49m\u001b[38;5;241;43m.\u001b[39;49m\u001b[43mget_loc\u001b[49m\u001b[43m(\u001b[49m\u001b[43mkey\u001b[49m\u001b[43m)\u001b[49m\n\u001b[0;32m   3897\u001b[0m \u001b[38;5;28;01mif\u001b[39;00m is_integer(indexer):\n\u001b[0;32m   3898\u001b[0m     indexer \u001b[38;5;241m=\u001b[39m [indexer]\n",
      "File \u001b[1;32mc:\\Users\\ew0045\\AppData\\Local\\Programs\\Python\\Python39\\lib\\site-packages\\pandas\\core\\indexes\\base.py:3797\u001b[0m, in \u001b[0;36mIndex.get_loc\u001b[1;34m(self, key)\u001b[0m\n\u001b[0;32m   3792\u001b[0m     \u001b[38;5;28;01mif\u001b[39;00m \u001b[38;5;28misinstance\u001b[39m(casted_key, \u001b[38;5;28mslice\u001b[39m) \u001b[38;5;129;01mor\u001b[39;00m (\n\u001b[0;32m   3793\u001b[0m         \u001b[38;5;28misinstance\u001b[39m(casted_key, abc\u001b[38;5;241m.\u001b[39mIterable)\n\u001b[0;32m   3794\u001b[0m         \u001b[38;5;129;01mand\u001b[39;00m \u001b[38;5;28many\u001b[39m(\u001b[38;5;28misinstance\u001b[39m(x, \u001b[38;5;28mslice\u001b[39m) \u001b[38;5;28;01mfor\u001b[39;00m x \u001b[38;5;129;01min\u001b[39;00m casted_key)\n\u001b[0;32m   3795\u001b[0m     ):\n\u001b[0;32m   3796\u001b[0m         \u001b[38;5;28;01mraise\u001b[39;00m InvalidIndexError(key)\n\u001b[1;32m-> 3797\u001b[0m     \u001b[38;5;28;01mraise\u001b[39;00m \u001b[38;5;167;01mKeyError\u001b[39;00m(key) \u001b[38;5;28;01mfrom\u001b[39;00m \u001b[38;5;21;01merr\u001b[39;00m\n\u001b[0;32m   3798\u001b[0m \u001b[38;5;28;01mexcept\u001b[39;00m \u001b[38;5;167;01mTypeError\u001b[39;00m:\n\u001b[0;32m   3799\u001b[0m     \u001b[38;5;66;03m# If we have a listlike key, _check_indexing_error will raise\u001b[39;00m\n\u001b[0;32m   3800\u001b[0m     \u001b[38;5;66;03m#  InvalidIndexError. Otherwise we fall through and re-raise\u001b[39;00m\n\u001b[0;32m   3801\u001b[0m     \u001b[38;5;66;03m#  the TypeError.\u001b[39;00m\n\u001b[0;32m   3802\u001b[0m     \u001b[38;5;28mself\u001b[39m\u001b[38;5;241m.\u001b[39m_check_indexing_error(key)\n",
      "\u001b[1;31mKeyError\u001b[0m: 'datetime'"
     ]
    }
   ],
   "source": [
    "# find for the various threholds the number of days per month, all in one file\n",
    "thresholds = [-6.67, -1.11, 4.44]\n",
    "years = range(2006, 2008)\n",
    "\n",
    "yFrames = []\n",
    "\n",
    "for year in years:\n",
    "    frame = pd.read_csv(\"extracted_by_year/\" + str(year) + \"_extracted/tmin\" + str(year) + \".csv\")\n",
    "    filter = \n",
    "    yFrames.append(frame)\n",
    "\n",
    "mList = mCounts(yFrames, thresholds)\n",
    "mList.head()"
   ]
  }
 ],
 "metadata": {
  "kernelspec": {
   "display_name": "Python 3",
   "language": "python",
   "name": "python3"
  },
  "language_info": {
   "codemirror_mode": {
    "name": "ipython",
    "version": 3
   },
   "file_extension": ".py",
   "mimetype": "text/x-python",
   "name": "python",
   "nbconvert_exporter": "python",
   "pygments_lexer": "ipython3",
   "version": "3.9.13"
  }
 },
 "nbformat": 4,
 "nbformat_minor": 2
}
