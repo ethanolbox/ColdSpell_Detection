{
 "cells": [
  {
   "cell_type": "code",
   "execution_count": 2,
   "metadata": {},
   "outputs": [],
   "source": [
    "# Basic imports\n",
    "import scipy, pandas as pd, numpy as np\n",
    "from matplotlib import pyplot as plt\n",
    "\n",
    "# set the constants\n",
    "CUTOFF = 4.44\n",
    "DAYS = 3"
   ]
  },
  {
   "cell_type": "code",
   "execution_count": 3,
   "metadata": {},
   "outputs": [],
   "source": [
    "# reshape, remove unnecessary columns and add statistical filter + threshold\n",
    "def proc(frame, lower_threshold, year):\n",
    "    processed = frame.copy()\n",
    "    for name in list(frame):\n",
    "        if name[:4] != \"tmin\" and name != \"GEOID20\":\n",
    "            processed = processed.drop(name, axis=1)\n",
    "    \n",
    "        \n",
    "    stats = processed.set_index('GEOID20')\n",
    "    stats = stats.apply(pd.DataFrame.describe, axis=1)\n",
    "    stats[\"lower\"] = stats[\"mean\"]-1.645*stats[\"std\"]\n",
    "\n",
    "    processed = processed.melt(id_vars='GEOID20', var_name='Date', value_name='Temp')\n",
    "    \n",
    "    # conversion to Python datetime objects\n",
    "    processed['Date'] = processed['Date'].map(lambda x: x.lstrip('tmin')) + str(year)\n",
    "    processed['Date'] = pd.to_datetime(processed['Date'], format='%b%d%Y')\n",
    "\n",
    "    # Set + sort by multi-level index using 'GEOID20' and 'Date'\n",
    "    processed.set_index(['GEOID20', 'Date'], inplace=True)\n",
    "    processed.sort_index(inplace=True)\n",
    "\n",
    "    thresholds = stats.copy()\n",
    "    thresholds.drop(columns=['count', 'mean', 'std', 'min', '25%', '50%', '75%', 'max'], inplace=True)\n",
    "    \n",
    "    # for lower here we currently have this as 4.44\n",
    "    thresholds['static']= lower_threshold\n",
    "    \n",
    "    merged = processed.reset_index().merge(thresholds.reset_index(), on='GEOID20', how='left').set_index(['GEOID20', 'Date'])\n",
    "\n",
    "    return merged"
   ]
  },
  {
   "cell_type": "code",
   "execution_count": 4,
   "metadata": {},
   "outputs": [],
   "source": [
    "# function to create a (not indexed) boolean series which tells you whether an entry is part of a consecutive series of length n\n",
    "def consec_count_n(series, n):\n",
    "    temp = []\n",
    "    c = 0\n",
    "    for i in range(len(series.values)):\n",
    "        if series.values[i] == False:\n",
    "            c = 0\n",
    "        else:\n",
    "            c += 1\n",
    "        temp.append(c)\n",
    "    \n",
    "    result = []\n",
    "    pass_thres = False\n",
    "    for i in range(len(temp)):\n",
    "        if temp[-(i+1)] >= n:\n",
    "            pass_thres = True\n",
    "            result.append(True)\n",
    "        elif temp[-(i+1)] != 0 and pass_thres:\n",
    "            result.append(True)\n",
    "        else:\n",
    "            pass_thres = False\n",
    "            result.append(False)\n",
    "    result = result[::-1]\n",
    "\n",
    "    return pd.Series(result)"
   ]
  },
  {
   "cell_type": "code",
   "execution_count": 5,
   "metadata": {},
   "outputs": [],
   "source": [
    "# function which returns a filtered version of a given dataframe which only includes the entries which are part of a consecutive series of length n Trues for a boolean mask\n",
    "def consec_filter(frame, n):\n",
    "    threshold_mask = (frame['Temp'] < frame['lower']) | (frame['Temp'] < frame['static'])\n",
    "    \n",
    "    contig_mask = pd.DataFrame(data=consec_count_n(threshold_mask, n))\n",
    "\n",
    "    contig_mask.reset_index()\n",
    "    contig_mask.columns = [\"contiguous\"]\n",
    "    contig_mask.index = frame.index\n",
    "\n",
    "    filtered_data = frame[frame.index.isin(contig_mask.index[contig_mask['contiguous']])]\n",
    "\n",
    "    return filtered_data"
   ]
  },
  {
   "cell_type": "code",
   "execution_count": 6,
   "metadata": {},
   "outputs": [],
   "source": [
    "# function to turn the dataframe of days into flat data\n",
    "def flatten(frame):\n",
    "    sequences = []\n",
    "\n",
    "    # loop to find and append the sequences and their lengths to a new array\n",
    "    for zip_code, group in frame.groupby(level='GEOID20'):\n",
    "        start_date = None\n",
    "        sequence_length = 0\n",
    "        prev_date = None\n",
    "        for date in group.index.get_level_values('Date'):\n",
    "            if start_date is None:\n",
    "                start_date = date\n",
    "                sequence_length = 1\n",
    "            elif prev_date is not None and (date - prev_date).days == 1:\n",
    "                sequence_length += 1\n",
    "            else:\n",
    "                sequences.append({\n",
    "                    'GEOID20': zip_code,\n",
    "                    'Start_Date': start_date.date(),\n",
    "                    'Sequence_Length': sequence_length\n",
    "                })\n",
    "                start_date = date\n",
    "                sequence_length = 1\n",
    "            prev_date = date\n",
    "        if sequence_length > 0:\n",
    "            sequences.append({\n",
    "                'GEOID20': zip_code,\n",
    "                'Start_Date': start_date.date(),\n",
    "                'Sequence_Length': sequence_length\n",
    "            })\n",
    "    # flatten to 2d array\n",
    "    result = [[seq['GEOID20'], seq['Start_Date'], seq['Sequence_Length']] for seq in sequences]\n",
    "\n",
    "    return result"
   ]
  },
  {
   "cell_type": "code",
   "execution_count": 7,
   "metadata": {},
   "outputs": [],
   "source": [
    "# function to do the whole process for a single year\n",
    "def find_coldspells(frame, cutoff, days, year):\n",
    "    processed = proc(frame, cutoff, year)\n",
    "    days = consec_filter(processed, days)\n",
    "    result = flatten(days)\n",
    "    return result"
   ]
  },
  {
   "cell_type": "code",
   "execution_count": 11,
   "metadata": {},
   "outputs": [],
   "source": [
    "columnNames = ['Zip_Code', 'Starting_Date', 'Days']\n",
    "\n",
    "years = range(2006, 2023)\n",
    "\n",
    "for year in years:\n",
    "    frame = pd.read_csv(\"extracted_by_year/\" + str(year) + \"_extracted/tmin\" + str(year) + \".csv\")\n",
    "    result = find_coldspells(frame, CUTOFF, DAYS, year)\n",
    "    np.savetxt(\"coldspell_\" + str(year) + \".csv\", result, fmt='%s', delimiter=', ', header=', '.join(columnNames))"
   ]
  }
 ],
 "metadata": {
  "kernelspec": {
   "display_name": "Python 3",
   "language": "python",
   "name": "python3"
  },
  "language_info": {
   "codemirror_mode": {
    "name": "ipython",
    "version": 3
   },
   "file_extension": ".py",
   "mimetype": "text/x-python",
   "name": "python",
   "nbconvert_exporter": "python",
   "pygments_lexer": "ipython3",
   "version": "3.9.13"
  }
 },
 "nbformat": 4,
 "nbformat_minor": 2
}
